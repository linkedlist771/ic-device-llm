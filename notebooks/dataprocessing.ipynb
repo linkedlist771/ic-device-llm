{
 "cells": [
  {
   "cell_type": "code",
   "execution_count": 1,
   "id": "initial_id",
   "metadata": {
    "collapsed": true,
    "ExecuteTime": {
     "end_time": "2024-07-16T08:05:16.392186700Z",
     "start_time": "2024-07-16T08:05:11.346130400Z"
    }
   },
   "outputs": [],
   "source": [
    "import numpy as np\n",
    "import re\n",
    "import pandas \n",
    "import json"
   ]
  },
  {
   "cell_type": "code",
   "outputs": [],
   "source": [
    "parametertest_data_path = \"../resources/parametertest.txt\"\n",
    "parametertrain_data_path = \"../resources/parametertrain.txt\"\n",
    "parameter_train_df = pandas.read_csv(parametertrain_data_path, sep=\",\")\n",
    "parameter_test_df = pandas.read_csv(parametertest_data_path, sep=\",\")\n",
    "# 将两个df的数据进行合并\n",
    "combined_df = pandas.concat([parameter_train_df, parameter_test_df], ignore_index=True)"
   ],
   "metadata": {
    "collapsed": false,
    "ExecuteTime": {
     "end_time": "2024-07-16T08:06:15.057134400Z",
     "start_time": "2024-07-16T08:06:15.001003900Z"
    }
   },
   "id": "442084816ddca8c4",
   "execution_count": 6
  },
  {
   "cell_type": "code",
   "outputs": [
    {
     "data": {
      "text/plain": "   lg_nw  r_nw  t_ox(nm)  index\n0     10   2.0      0.50      1\n1     10   2.0      0.75      2\n2     10   2.0      1.00      3\n3     10   2.0      1.25      4\n4     10   2.0      1.50      5",
      "text/html": "<div>\n<style scoped>\n    .dataframe tbody tr th:only-of-type {\n        vertical-align: middle;\n    }\n\n    .dataframe tbody tr th {\n        vertical-align: top;\n    }\n\n    .dataframe thead th {\n        text-align: right;\n    }\n</style>\n<table border=\"1\" class=\"dataframe\">\n  <thead>\n    <tr style=\"text-align: right;\">\n      <th></th>\n      <th>lg_nw</th>\n      <th>r_nw</th>\n      <th>t_ox(nm)</th>\n      <th>index</th>\n    </tr>\n  </thead>\n  <tbody>\n    <tr>\n      <th>0</th>\n      <td>10</td>\n      <td>2.0</td>\n      <td>0.50</td>\n      <td>1</td>\n    </tr>\n    <tr>\n      <th>1</th>\n      <td>10</td>\n      <td>2.0</td>\n      <td>0.75</td>\n      <td>2</td>\n    </tr>\n    <tr>\n      <th>2</th>\n      <td>10</td>\n      <td>2.0</td>\n      <td>1.00</td>\n      <td>3</td>\n    </tr>\n    <tr>\n      <th>3</th>\n      <td>10</td>\n      <td>2.0</td>\n      <td>1.25</td>\n      <td>4</td>\n    </tr>\n    <tr>\n      <th>4</th>\n      <td>10</td>\n      <td>2.0</td>\n      <td>1.50</td>\n      <td>5</td>\n    </tr>\n  </tbody>\n</table>\n</div>"
     },
     "execution_count": 11,
     "metadata": {},
     "output_type": "execute_result"
    }
   ],
   "source": [
    "# 按照\"index\"这个columns进行排序\n",
    "combined_df = combined_df.sort_values(by=\"index\")\n",
    "# combined_df # 重拍原始的index\n",
    "combined_df = combined_df.reset_index(drop=True)\n",
    "combined_df.head()"
   ],
   "metadata": {
    "collapsed": false,
    "ExecuteTime": {
     "end_time": "2024-07-16T08:07:16.973941100Z",
     "start_time": "2024-07-16T08:07:16.936265400Z"
    }
   },
   "id": "bb380972ac33390a",
   "execution_count": 11
  },
  {
   "cell_type": "code",
   "outputs": [
    {
     "data": {
      "text/plain": "Index(['lg_nw', 'r_nw', 't_ox(nm)', 'index'], dtype='object')"
     },
     "execution_count": 20,
     "metadata": {},
     "output_type": "execute_result"
    }
   ],
   "source": [
    "combined_df.columns"
   ],
   "metadata": {
    "collapsed": false,
    "ExecuteTime": {
     "end_time": "2024-07-16T08:17:19.997834200Z",
     "start_time": "2024-07-16T08:17:19.964153700Z"
    }
   },
   "id": "dc6451f743f1dd91",
   "execution_count": 20
  },
  {
   "cell_type": "code",
   "outputs": [],
   "source": [
    "data_text_dir = \"../resources/data\"\n",
    "def process_txt_data(data_path: str) -> dict[str, list]:\n",
    "    # 从第1一行开始读数据（第0行的数据不要了）\n",
    "    \n",
    "    data = np.loadtxt(data_path, skiprows=1)\n",
    "    # vg\tvd\tids\n",
    "    res_data = {}\n",
    "    res_data[\"vg\"] = [float(x) for x in data[:, 0]]\n",
    "    \n",
    "    res_data[\"vd\"] = [float(x) for x in data[:, 1]]\n",
    "    res_data[\"ids\"] = [float(x) for x in data[:, 2]]\n",
    "    return res_data\n",
    "    \n",
    "import os\n",
    "txt_path_list = [os.path.join(data_text_dir, file) for file in os.listdir(data_text_dir) if file.endswith(\".txt\")]"
   ],
   "metadata": {
    "collapsed": false,
    "ExecuteTime": {
     "end_time": "2024-07-16T08:19:58.148020900Z",
     "start_time": "2024-07-16T08:19:58.137821400Z"
    }
   },
   "id": "6286010044959f0a",
   "execution_count": 22
  },
  {
   "cell_type": "code",
   "outputs": [
    {
     "data": {
      "text/plain": "{'vg': [0.0,\n  0.0,\n  0.0,\n  0.0,\n  0.0,\n  0.0,\n  0.0,\n  0.0,\n  0.0,\n  0.0,\n  0.0,\n  0.0,\n  0.0,\n  0.0,\n  0.0,\n  0.05,\n  0.05,\n  0.05,\n  0.05,\n  0.05,\n  0.05,\n  0.05,\n  0.05,\n  0.05,\n  0.05,\n  0.05,\n  0.05,\n  0.05,\n  0.05,\n  0.05,\n  0.1,\n  0.1,\n  0.1,\n  0.1,\n  0.1,\n  0.1,\n  0.1,\n  0.1,\n  0.1,\n  0.1,\n  0.1,\n  0.1,\n  0.1,\n  0.1,\n  0.1,\n  0.15,\n  0.15,\n  0.15,\n  0.15,\n  0.15,\n  0.15,\n  0.15,\n  0.15,\n  0.15,\n  0.15,\n  0.15,\n  0.15,\n  0.15,\n  0.15,\n  0.15,\n  0.2,\n  0.2,\n  0.2,\n  0.2,\n  0.2,\n  0.2,\n  0.2,\n  0.2,\n  0.2,\n  0.2,\n  0.2,\n  0.2,\n  0.2,\n  0.2,\n  0.2,\n  0.25,\n  0.25,\n  0.25,\n  0.25,\n  0.25,\n  0.25,\n  0.25,\n  0.25,\n  0.25,\n  0.25,\n  0.25,\n  0.25,\n  0.25,\n  0.25,\n  0.25,\n  0.3,\n  0.3,\n  0.3,\n  0.3,\n  0.3,\n  0.3,\n  0.3,\n  0.3,\n  0.3,\n  0.3,\n  0.3,\n  0.3,\n  0.3,\n  0.3,\n  0.3,\n  0.35,\n  0.35,\n  0.35,\n  0.35,\n  0.35,\n  0.35,\n  0.35,\n  0.35,\n  0.35,\n  0.35,\n  0.35,\n  0.35,\n  0.35,\n  0.35,\n  0.35,\n  0.4,\n  0.4,\n  0.4,\n  0.4,\n  0.4,\n  0.4,\n  0.4,\n  0.4,\n  0.4,\n  0.4,\n  0.4,\n  0.4,\n  0.4,\n  0.4,\n  0.4,\n  0.45,\n  0.45,\n  0.45,\n  0.45,\n  0.45,\n  0.45,\n  0.45,\n  0.45,\n  0.45,\n  0.45,\n  0.45,\n  0.45,\n  0.45,\n  0.45,\n  0.45,\n  0.5,\n  0.5,\n  0.5,\n  0.5,\n  0.5,\n  0.5,\n  0.5,\n  0.5,\n  0.5,\n  0.5,\n  0.5,\n  0.5,\n  0.5,\n  0.5,\n  0.5,\n  0.55,\n  0.55,\n  0.55,\n  0.55,\n  0.55,\n  0.55,\n  0.55,\n  0.55,\n  0.55,\n  0.55,\n  0.55,\n  0.55,\n  0.55,\n  0.55,\n  0.55,\n  0.6,\n  0.6,\n  0.6,\n  0.6,\n  0.6,\n  0.6,\n  0.6,\n  0.6,\n  0.6,\n  0.6,\n  0.6,\n  0.6,\n  0.6,\n  0.6,\n  0.6,\n  0.65,\n  0.65,\n  0.65,\n  0.65,\n  0.65,\n  0.65,\n  0.65,\n  0.65,\n  0.65,\n  0.65,\n  0.65,\n  0.65,\n  0.65,\n  0.65,\n  0.65,\n  0.7,\n  0.7,\n  0.7,\n  0.7,\n  0.7,\n  0.7,\n  0.7,\n  0.7,\n  0.7,\n  0.7,\n  0.7,\n  0.7,\n  0.7,\n  0.7,\n  0.7],\n 'vd': [0.0,\n  0.05,\n  0.1,\n  0.15,\n  0.2,\n  0.25,\n  0.3,\n  0.35,\n  0.4,\n  0.45,\n  0.5,\n  0.55,\n  0.6,\n  0.65,\n  0.7,\n  0.0,\n  0.05,\n  0.1,\n  0.15,\n  0.2,\n  0.25,\n  0.3,\n  0.35,\n  0.4,\n  0.45,\n  0.5,\n  0.55,\n  0.6,\n  0.65,\n  0.7,\n  0.0,\n  0.05,\n  0.1,\n  0.15,\n  0.2,\n  0.25,\n  0.3,\n  0.35,\n  0.4,\n  0.45,\n  0.5,\n  0.55,\n  0.6,\n  0.65,\n  0.7,\n  0.0,\n  0.05,\n  0.1,\n  0.15,\n  0.2,\n  0.25,\n  0.3,\n  0.35,\n  0.4,\n  0.45,\n  0.5,\n  0.55,\n  0.6,\n  0.65,\n  0.7,\n  0.0,\n  0.05,\n  0.1,\n  0.15,\n  0.2,\n  0.25,\n  0.3,\n  0.35,\n  0.4,\n  0.45,\n  0.5,\n  0.55,\n  0.6,\n  0.65,\n  0.7,\n  0.0,\n  0.05,\n  0.1,\n  0.15,\n  0.2,\n  0.25,\n  0.3,\n  0.35,\n  0.4,\n  0.45,\n  0.5,\n  0.55,\n  0.6,\n  0.65,\n  0.7,\n  0.0,\n  0.05,\n  0.1,\n  0.15,\n  0.2,\n  0.25,\n  0.3,\n  0.35,\n  0.4,\n  0.45,\n  0.5,\n  0.55,\n  0.6,\n  0.65,\n  0.7,\n  0.0,\n  0.05,\n  0.1,\n  0.15,\n  0.2,\n  0.25,\n  0.3,\n  0.35,\n  0.4,\n  0.45,\n  0.5,\n  0.55,\n  0.6,\n  0.65,\n  0.7,\n  0.0,\n  0.05,\n  0.1,\n  0.15,\n  0.2,\n  0.25,\n  0.3,\n  0.35,\n  0.4,\n  0.45,\n  0.5,\n  0.55,\n  0.6,\n  0.65,\n  0.7,\n  0.0,\n  0.05,\n  0.1,\n  0.15,\n  0.2,\n  0.25,\n  0.3,\n  0.35,\n  0.4,\n  0.45,\n  0.5,\n  0.55,\n  0.6,\n  0.65,\n  0.7,\n  0.0,\n  0.05,\n  0.1,\n  0.15,\n  0.2,\n  0.25,\n  0.3,\n  0.35,\n  0.4,\n  0.45,\n  0.5,\n  0.55,\n  0.6,\n  0.65,\n  0.7,\n  0.0,\n  0.05,\n  0.1,\n  0.15,\n  0.2,\n  0.25,\n  0.3,\n  0.35,\n  0.4,\n  0.45,\n  0.5,\n  0.55,\n  0.6,\n  0.65,\n  0.7,\n  0.0,\n  0.05,\n  0.1,\n  0.15,\n  0.2,\n  0.25,\n  0.3,\n  0.35,\n  0.4,\n  0.45,\n  0.5,\n  0.55,\n  0.6,\n  0.65,\n  0.7,\n  0.0,\n  0.05,\n  0.1,\n  0.15,\n  0.2,\n  0.25,\n  0.3,\n  0.35,\n  0.4,\n  0.45,\n  0.5,\n  0.55,\n  0.6,\n  0.65,\n  0.7,\n  0.0,\n  0.05,\n  0.1,\n  0.15,\n  0.2,\n  0.25,\n  0.3,\n  0.35,\n  0.4,\n  0.45,\n  0.5,\n  0.55,\n  0.6,\n  0.65,\n  0.7],\n 'ids': [-4.5934e-14,\n  2.5798e-11,\n  3.0522e-11,\n  3.1957e-11,\n  3.2843e-11,\n  3.3573e-11,\n  3.4235e-11,\n  3.4863e-11,\n  3.5473e-11,\n  3.6068e-11,\n  3.6654e-11,\n  3.7231e-11,\n  3.78e-11,\n  3.8363e-11,\n  3.892e-11,\n  -1.9933e-13,\n  1.6438e-10,\n  1.9484e-10,\n  2.0412e-10,\n  2.0965e-10,\n  2.1422e-10,\n  2.1845e-10,\n  2.2254e-10,\n  2.2651e-10,\n  2.304e-10,\n  2.3422e-10,\n  2.3798e-10,\n  2.4168e-10,\n  2.4533e-10,\n  2.4893e-10,\n  -1.0935e-12,\n  1.0439e-09,\n  1.2381e-09,\n  1.2967e-09,\n  1.3311e-09,\n  1.3602e-09,\n  1.3875e-09,\n  1.414e-09,\n  1.4398e-09,\n  1.4651e-09,\n  1.4898e-09,\n  1.5139e-09,\n  1.5374e-09,\n  1.5602e-09,\n  1.5821e-09,\n  -4.8023e-12,\n  6.4831e-09,\n  7.7064e-09,\n  8.0656e-09,\n  8.2785e-09,\n  8.4616e-09,\n  8.6346e-09,\n  8.8012e-09,\n  8.9621e-09,\n  9.1166e-09,\n  9.263e-09,\n  9.3994e-09,\n  9.5256e-09,\n  9.6436e-09,\n  9.7558e-09,\n  -3.1388e-11,\n  3.8177e-08,\n  4.5585e-08,\n  4.772e-08,\n  4.8946e-08,\n  4.9995e-08,\n  5.0949e-08,\n  5.1812e-08,\n  5.2594e-08,\n  5.3318e-08,\n  5.4003e-08,\n  5.466e-08,\n  5.5296e-08,\n  5.5895e-08,\n  5.6497e-08,\n  -9.4832e-11,\n  1.8544e-07,\n  2.2607e-07,\n  2.3677e-07,\n  2.4189e-07,\n  2.4573e-07,\n  2.4913e-07,\n  2.5228e-07,\n  2.5524e-07,\n  2.5803e-07,\n  2.6065e-07,\n  2.631e-07,\n  2.6538e-07,\n  2.6751e-07,\n  2.6952e-07,\n  -2.4505e-10,\n  5.8666e-07,\n  7.5944e-07,\n  7.9974e-07,\n  8.1413e-07,\n  8.2303e-07,\n  8.3025e-07,\n  8.3664e-07,\n  8.4249e-07,\n  8.4792e-07,\n  8.5301e-07,\n  8.5782e-07,\n  8.6236e-07,\n  8.6666e-07,\n  8.7074e-07,\n  -3.8253e-10,\n  1.1794e-06,\n  1.6709e-06,\n  1.7942e-06,\n  1.8289e-06,\n  1.8446e-06,\n  1.8555e-06,\n  1.8646e-06,\n  1.8728e-06,\n  1.8801e-06,\n  1.8869e-06,\n  1.8932e-06,\n  1.9001e-06,\n  1.9057e-06,\n  1.9109e-06,\n  -4.8451e-10,\n  1.7795e-06,\n  2.7567e-06,\n  3.0725e-06,\n  3.1584e-06,\n  3.1865e-06,\n  3.2016e-06,\n  3.2131e-06,\n  3.2228e-06,\n  3.2314e-06,\n  3.2392e-06,\n  3.2465e-06,\n  3.2532e-06,\n  3.2595e-06,\n  3.2654e-06,\n  -5.6201e-10,\n  2.3102e-06,\n  3.8454e-06,\n  4.4839e-06,\n  4.6706e-06,\n  4.7262e-06,\n  4.7514e-06,\n  4.766e-06,\n  4.7773e-06,\n  4.787e-06,\n  4.7957e-06,\n  4.8035e-06,\n  4.8108e-06,\n  4.8175e-06,\n  4.8238e-06,\n  -6.2684e-10,\n  2.8053e-06,\n  4.8393e-06,\n  5.914e-06,\n  6.2821e-06,\n  6.3943e-06,\n  6.4324e-06,\n  6.4516e-06,\n  6.465e-06,\n  6.476e-06,\n  6.4856e-06,\n  6.4941e-06,\n  6.5029e-06,\n  6.5104e-06,\n  6.517e-06,\n  -6.8034e-10,\n  3.1851e-06,\n  5.7039e-06,\n  7.263e-06,\n  7.9151e-06,\n  8.1293e-06,\n  8.1967e-06,\n  8.2271e-06,\n  8.2443e-06,\n  8.2568e-06,\n  8.2673e-06,\n  8.2764e-06,\n  8.2846e-06,\n  8.2922e-06,\n  8.2991e-06,\n  -7.2201e-10,\n  3.515e-06,\n  6.437e-06,\n  8.4861e-06,\n  9.468e-06,\n  9.8821e-06,\n  1.0007e-05,\n  1.0055e-05,\n  1.0078e-05,\n  1.0093e-05,\n  1.0104e-05,\n  1.0114e-05,\n  1.0123e-05,\n  1.0131e-05,\n  1.0139e-05,\n  -7.544e-10,\n  3.7787e-06,\n  7.0535e-06,\n  9.5435e-06,\n  1.0917e-05,\n  1.1602e-05,\n  1.1831e-05,\n  1.1907e-05,\n  1.1939e-05,\n  1.1959e-05,\n  1.1973e-05,\n  1.1983e-05,\n  1.1993e-05,\n  1.2001e-05,\n  1.2008e-05,\n  -7.7761e-10,\n  3.9971e-06,\n  7.6166e-06,\n  1.0424e-05,\n  1.2199e-05,\n  1.3194e-05,\n  1.3619e-05,\n  1.3753e-05,\n  1.3807e-05,\n  1.3832e-05,\n  1.3848e-05,\n  1.386e-05,\n  1.387e-05,\n  1.3878e-05,\n  1.3886e-05]}"
     },
     "execution_count": 23,
     "metadata": {},
     "output_type": "execute_result"
    }
   ],
   "source": [
    "process_txt_data(txt_path_list[0])"
   ],
   "metadata": {
    "collapsed": false,
    "ExecuteTime": {
     "end_time": "2024-07-16T08:19:58.944549500Z",
     "start_time": "2024-07-16T08:19:58.927109500Z"
    }
   },
   "id": "82f38cf6b84c2f8c",
   "execution_count": 23
  },
  {
   "cell_type": "code",
   "outputs": [
    {
     "data": {
      "text/plain": "{1: {'lg_new': 0.0,\n  'r_nw': 0.0,\n  't_ox(nm)': 0.0,\n  'index': 1,\n  'data': {'vg': [], 'vd': [], 'ids': []}}}"
     },
     "execution_count": 24,
     "metadata": {},
     "output_type": "execute_result"
    }
   ],
   "source": [
    "{\n",
    "    # Index(['lg_nw', 'r_nw', 't_ox(nm)', 'index'], dtype='object')\n",
    "    1: {\n",
    "        \"lg_new\": 0.,\n",
    "        \"r_nw\": 0.,\n",
    "        \"t_ox(nm)\": 0.,\n",
    "        \"index\":1,\n",
    "        \"data\": {\n",
    "            \"vg\": [],\n",
    "            \"vd\": [],\n",
    "            \"ids\": []\n",
    "        }\n",
    "    \n",
    "    }\n",
    "    \n",
    "    \n",
    "    \n",
    "}"
   ],
   "metadata": {
    "collapsed": false,
    "ExecuteTime": {
     "end_time": "2024-07-16T08:20:05.249455Z",
     "start_time": "2024-07-16T08:20:05.233907700Z"
    }
   },
   "id": "8f4693d25a80e7ae",
   "execution_count": 24
  },
  {
   "cell_type": "code",
   "outputs": [
    {
     "name": "stdout",
     "output_type": "stream",
     "text": [
      "Data processing completed. Results saved to 'processed_data.json'.\n"
     ]
    }
   ],
   "source": [
    "# Process all data\n",
    "result_data = {}\n",
    "for index, row in combined_df.iterrows():\n",
    "    idx = int(row['index'])\n",
    "    result_data[idx] = {\n",
    "        \"lg_nw\": row['lg_nw'],\n",
    "        \"r_nw\": row['r_nw'],\n",
    "        \"t_ox(nm)\": row['t_ox(nm)'],\n",
    "        \"index\": idx,\n",
    "        \"data\": process_txt_data(txt_path_list[index])\n",
    "    }\n",
    "\n",
    "# Save result to JSON file\n",
    "with open('device_data.json', 'w') as f:\n",
    "    json.dump(result_data, f, indent=4)\n",
    "\n",
    "print(\"Data processing completed. Results saved to 'processed_data.json'.\")"
   ],
   "metadata": {
    "collapsed": false,
    "ExecuteTime": {
     "end_time": "2024-07-16T08:21:36.894910400Z",
     "start_time": "2024-07-16T08:21:36.311708200Z"
    }
   },
   "id": "c8c5e1b1534280e4",
   "execution_count": 29
  },
  {
   "cell_type": "code",
   "outputs": [],
   "source": [],
   "metadata": {
    "collapsed": false
   },
   "id": "1894b4b507734c6d"
  }
 ],
 "metadata": {
  "kernelspec": {
   "display_name": "Python 3",
   "language": "python",
   "name": "python3"
  },
  "language_info": {
   "codemirror_mode": {
    "name": "ipython",
    "version": 2
   },
   "file_extension": ".py",
   "mimetype": "text/x-python",
   "name": "python",
   "nbconvert_exporter": "python",
   "pygments_lexer": "ipython2",
   "version": "2.7.6"
  }
 },
 "nbformat": 4,
 "nbformat_minor": 5
}
